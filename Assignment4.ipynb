{
 "cells": [
  {
   "cell_type": "code",
   "execution_count": 1,
   "metadata": {},
   "outputs": [
    {
     "name": "stdout",
     "output_type": "stream",
     "text": [
      "First_name : Abeer\n",
      "Last_name : KHAN\n",
      "Age : 21\n",
      "City : Karachi\n",
      "{'First_name': 'Abeer', 'Last_name': 'KHAN', 'Age': '21', 'City': 'Karachi', 'Qualification': 'matric'}\n",
      "{'First_name': 'Abeer', 'Last_name': 'KHAN', 'Age': '21', 'City': 'Karachi', 'Qualification': 'high academic level'}\n",
      "{'First_name': 'Abeer', 'Last_name': 'KHAN', 'Age': '21', 'City': 'Karachi'}\n"
     ]
    }
   ],
   "source": [
    "person = {\"First_name\" : \"Abeer\", \n",
    "         \"Last_name\" : \"KHAN\",\n",
    "         \"Age\" : \"21\",\n",
    "         \"City\" : \"Karachi\"}\n",
    "for key , value in person.items() :\n",
    "    print(key + \" : \" + value)\n",
    "person[\"Qualification\"] = \"matric\"\n",
    "print(person)\n",
    "person[\"Qualification\"] = \"high academic level\"\n",
    "print(person)\n",
    "del person[\"Qualification\"]\n",
    "print (person)"
   ]
  },
  {
   "cell_type": "code",
   "execution_count": 3,
   "metadata": {},
   "outputs": [
    {
     "name": "stdout",
     "output_type": "stream",
     "text": [
      "Beijing : {'Country': 'China', 'Population': '22 million', 'Fact': \"breathing Beijing's air for six average days is the equivalent of smoking just one cigarette.\"}\n",
      "Istanbul : {'Country': 'Turkey', 'Population': '15 million', 'Fact': 'Istanbul is the only city in the world which is both in Europe and Asia.'}\n",
      "Moscow : {'Country': 'Russia', 'Population': '12 million', 'Fact': 'Moscow claims the largest number of billionaires in the world.'}\n"
     ]
    }
   ],
   "source": [
    "cities = {\n",
    "    \"Beijing\" : {\"Country\" : \"China\" , \n",
    "                 \"Population\" : \"22 million\" , \n",
    "                 \"Fact\" : \"breathing Beijing's air for six average days is the equivalent of smoking just one cigarette.\"} , \n",
    "    \"Istanbul\" : {\"Country\" : \"Turkey\" , \n",
    "                  \"Population\" : \"15 million\" , \n",
    "                  \"Fact\" : \"Istanbul is the only city in the world which is both in Europe and Asia.\"} , \n",
    "    \"Moscow\" : {\"Country\" : \"Russia\" , \n",
    "                \"Population\" : \"12 million\" , \n",
    "                \"Fact\" : \"Moscow claims the largest number of billionaires in the world.\"}\n",
    "}\n",
    "for key,value in cities.items():\n",
    "    print(key , \":\" , value)"
   ]
  },
  {
   "cell_type": "code",
   "execution_count": 4,
   "metadata": {},
   "outputs": [
    {
     "name": "stdin",
     "output_type": "stream",
     "text": [
      "enter age for ticket cost:  54\n"
     ]
    },
    {
     "name": "stdout",
     "output_type": "stream",
     "text": [
      "ticket cost is $15\n"
     ]
    },
    {
     "name": "stdin",
     "output_type": "stream",
     "text": [
      "enter age for ticket cost:  76\n"
     ]
    },
    {
     "name": "stdout",
     "output_type": "stream",
     "text": [
      "ticket cost is $15\n"
     ]
    },
    {
     "name": "stdin",
     "output_type": "stream",
     "text": [
      "enter age for ticket cost:  15\n"
     ]
    },
    {
     "name": "stdout",
     "output_type": "stream",
     "text": [
      "ticket cost is $15\n"
     ]
    },
    {
     "name": "stdin",
     "output_type": "stream",
     "text": [
      "enter age for ticket cost:  END\n"
     ]
    }
   ],
   "source": [
    "while True:\n",
    "    try:\n",
    "        age = int(input(\"enter age for ticket cost: \"))\n",
    "        if int(age) < 3:\n",
    "            print(\"ticket is free of cost\")\n",
    "        elif int(age) >= 3 and int(age) <= 12:\n",
    "            print(\"ticket cost is $10\")\n",
    "        elif int(age) > 12:\n",
    "            print(\"ticket cost is $15\")\n",
    "    except ValueError:\n",
    "        break"
   ]
  },
  {
   "cell_type": "code",
   "execution_count": 5,
   "metadata": {},
   "outputs": [
    {
     "name": "stdout",
     "output_type": "stream",
     "text": [
      "GOT is one of the most intense book ever written\n"
     ]
    }
   ],
   "source": [
    "def favorite_book(title) :\n",
    "    print(title , \"is one of the most intense book ever written\")\n",
    "    \n",
    "favorite_book(\"GOT\")"
   ]
  },
  {
   "cell_type": "code",
   "execution_count": null,
   "metadata": {},
   "outputs": [],
   "source": [
    "import random\n",
    "\n",
    "print(\"Welcome to the game of guessing the hidden number\")\n",
    "print(\"You will be given three chance to guess the number between 1 and 30\")\n",
    "\n",
    "num = random.randint(1,30)\n",
    "\n",
    "for i in range(3):\n",
    "    ans = int(input(\"Guess the number:\"))\n",
    "    if ans > num and i in range(2) : \n",
    "        print(\"Hidden number is smaller than entered number\")\n",
    "    elif ans < num and i in range(2) :\n",
    "        print(\"Hidden number is larger than entered number\")\n",
    "    elif ans == num :\n",
    "        print(\"Congratzz,\\n You have guessed the number right\")\n",
    "        print(\"Hidden number is\" , num)\n",
    "        break\n",
    "    if i == 2:\n",
    "        print (\"You lose, \\n You couldn't guess the hidden number\")\n",
    "        print (\"Hidden number is\" , num)"
   ]
  },
  {
   "cell_type": "code",
   "execution_count": null,
   "metadata": {},
   "outputs": [],
   "source": []
  }
 ],
 "metadata": {
  "kernelspec": {
   "display_name": "Python 3",
   "language": "python",
   "name": "python3"
  },
  "language_info": {
   "codemirror_mode": {
    "name": "ipython",
    "version": 3
   },
   "file_extension": ".py",
   "mimetype": "text/x-python",
   "name": "python",
   "nbconvert_exporter": "python",
   "pygments_lexer": "ipython3",
   "version": "3.7.4"
  }
 },
 "nbformat": 4,
 "nbformat_minor": 4
}
